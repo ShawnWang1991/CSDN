{
 "cells": [
  {
   "cell_type": "markdown",
   "metadata": {},
   "source": [
    "一、正则表达式 "
   ]
  },
  {
   "cell_type": "code",
   "execution_count": 2,
   "metadata": {
    "collapsed": false
   },
   "outputs": [
    {
     "name": "stdout",
     "output_type": "stream",
     "text": [
      "大雾预警 http://www.nmc.cn/publish/country/warning/fog.html 中央气象台1月17日06时继续发布大雾黄色预警\n"
     ]
    }
   ],
   "source": [
    "# coding=utf-8\n",
    "import  re, urllib.request\n",
    "\n",
    "url = 'http://www.nmc.cn'\n",
    "html = urllib.request.urlopen(url).read()\n",
    "html = html.decode('utf-8')     #python3版本中需要加入\n",
    "links = re.findall('<a target=\"_blank\" href=\"(.+?)\" title',html)\n",
    "titles = re.findall('<a target=\"_blank\" .+? title=\"(.+?)\">',html)\n",
    "tags = re.findall('<a target=\"_blank\" .+? title=.+?>(.+?)</a>',html)\n",
    "for link,title,tag in zip(links,titles,tags):\n",
    "    print(tag,url+link,title)"
   ]
  },
  {
   "cell_type": "markdown",
   "metadata": {},
   "source": [
    "二、BeautifulSoup 模块 "
   ]
  },
  {
   "cell_type": "code",
   "execution_count": 3,
   "metadata": {
    "collapsed": false
   },
   "outputs": [
    {
     "name": "stdout",
     "output_type": "stream",
     "text": [
      "大雾预警 http://www.nmc.cn/publish/country/warning/fog.html 中央气象台1月17日06时继续发布大雾黄色预警\n"
     ]
    }
   ],
   "source": [
    "from bs4 import BeautifulSoup\n",
    "import urllib.request\n",
    "\n",
    "url = 'http://www.nmc.cn'\n",
    "html = urllib.request.urlopen(url).read()\n",
    "soup = BeautifulSoup(html,'lxml')\n",
    "content = soup.select('#alarmtip > ul > li.waring > a')\n",
    "\n",
    "for n in content:\n",
    "    link = n.get('href')\n",
    "    title = n.get('title')\n",
    "    tag = n.text\n",
    "    print(tag, url + link, title)"
   ]
  },
  {
   "cell_type": "markdown",
   "metadata": {},
   "source": [
    "三、lxml 模块"
   ]
  },
  {
   "cell_type": "code",
   "execution_count": 4,
   "metadata": {
    "collapsed": false
   },
   "outputs": [
    {
     "name": "stdout",
     "output_type": "stream",
     "text": [
      "大雾预警 http://www.nmc.cn/publish/country/warning/fog.html 中央气象台1月17日06时继续发布大雾黄色预警\n"
     ]
    }
   ],
   "source": [
    "import urllib.request,lxml.html\n",
    "\n",
    "url = 'http://www.nmc.cn'\n",
    "html = urllib.request.urlopen(url).read()\n",
    "tree = lxml.html.fromstring(html)\n",
    "content = tree.cssselect('li.waring > a')\n",
    "\n",
    "for n in content:\n",
    "    link = n.get('href')\n",
    "    title = n.get('title')\n",
    "    tag = n.text\n",
    "    print(tag, url + link, title)"
   ]
  },
  {
   "cell_type": "markdown",
   "metadata": {},
   "source": [
    "四、将抓取的数据存储到列表或者字典中"
   ]
  },
  {
   "cell_type": "code",
   "execution_count": 5,
   "metadata": {
    "collapsed": true
   },
   "outputs": [],
   "source": [
    "from bs4 import BeautifulSoup\n",
    "import urllib.request\n",
    "\n",
    "url = 'http://www.nmc.cn'\n",
    "html = urllib.request.urlopen(url).read()\n",
    "soup = BeautifulSoup(html,'lxml')\n",
    "content = soup.select('#alarmtip > ul > li.waring > a')\n",
    "\n",
    "######### 添加到列表中\n",
    "link = []\n",
    "title = []\n",
    "tag = []\n",
    "for n in content:\n",
    "    link.append(url+n.get('href'))\n",
    "    title.append(n.get('title'))\n",
    "    tag.append(n.text)\n",
    "\n",
    "######## 添加到字典中\n",
    "for n in content:\n",
    "    data = {\n",
    "        'tag'   : n.text,\n",
    "        'link'  : url+n.get('href'),\n",
    "        'title' : n.get('title')\n",
    "    }"
   ]
  },
  {
   "cell_type": "code",
   "execution_count": 6,
   "metadata": {
    "collapsed": false
   },
   "outputs": [
    {
     "name": "stdout",
     "output_type": "stream",
     "text": [
      "{'link': 'http://www.nmc.cn/publish/country/warning/fog.html', 'tag': '大雾预警', 'title': '中央气象台1月17日06时继续发布大雾黄色预警'}\n"
     ]
    }
   ],
   "source": [
    "print(data)"
   ]
  },
  {
   "cell_type": "code",
   "execution_count": null,
   "metadata": {
    "collapsed": true
   },
   "outputs": [],
   "source": []
  }
 ],
 "metadata": {
  "kernelspec": {
   "display_name": "Python [default]",
   "language": "python",
   "name": "python3"
  },
  "language_info": {
   "codemirror_mode": {
    "name": "ipython",
    "version": 3
   },
   "file_extension": ".py",
   "mimetype": "text/x-python",
   "name": "python",
   "nbconvert_exporter": "python",
   "pygments_lexer": "ipython3",
   "version": "3.5.2"
  }
 },
 "nbformat": 4,
 "nbformat_minor": 1
}
